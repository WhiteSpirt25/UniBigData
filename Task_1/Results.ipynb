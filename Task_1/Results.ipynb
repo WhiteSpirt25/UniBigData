{
 "cells": [
  {
   "cell_type": "markdown",
   "metadata": {},
   "source": [
    "# Генерация файла"
   ]
  },
  {
   "cell_type": "code",
   "execution_count": 19,
   "metadata": {},
   "outputs": [],
   "source": [
    "import random\n",
    "import struct\n",
    "\n",
    "TOTAL_NUMBERS = 537_000_000\n",
    "\n",
    "def rand_big_end():\n",
    "    '''\n",
    "    Generates random 32 bit unsigned int and converts it to big endian.\n",
    "    '''\n",
    "    ran = random.randint(0,4_294_967_295)\n",
    "    be = struct.pack('>I', ran)\n",
    "    return be\n",
    "\n",
    "def generate_file(filename = \"numbers\",n_numbers = TOTAL_NUMBERS):\n",
    "    f = open(filename,\"wb\")\n",
    "    for _ in range(n_numbers):\n",
    "        f.write(rand_big_end())\n",
    "    f.close()"
   ]
  },
  {
   "cell_type": "raw",
   "metadata": {},
   "source": [
    "generate_file(filename=\"numbers\")"
   ]
  },
  {
   "cell_type": "markdown",
   "metadata": {},
   "source": [
    "# Последовательное чтение"
   ]
  },
  {
   "cell_type": "code",
   "execution_count": 20,
   "metadata": {},
   "outputs": [],
   "source": [
    "def concec_count(filename = \"numbers\"):\n",
    "    num_sum = 0\n",
    "    max_num = 0\n",
    "    min_num = 4_294_967_295\n",
    "    \n",
    "    f = open(filename,\"rb\")\n",
    "    while bynum := f.read(4):\n",
    "            \n",
    "        number = struct.unpack('>I',bynum)[0]\n",
    "        \n",
    "        num_sum+=number\n",
    "        if number>max_num:\n",
    "            max_num = number\n",
    "        if number<min_num:\n",
    "            min_num = number\n",
    "    else:\n",
    "        print(f'''\n",
    "        Total sum: {num_sum}\n",
    "        Max number: {max_num}\n",
    "        Min number: {min_num}\n",
    "        ''')"
   ]
  },
  {
   "cell_type": "code",
   "execution_count": 30,
   "metadata": {},
   "outputs": [
    {
     "name": "stdout",
     "output_type": "stream",
     "text": [
      "\n",
      "        Total sum: 1153199138354382487\n",
      "        Max number: 4294967292\n",
      "        Min number: 19\n",
      "        \n",
      "Wall time: 3min 5s\n"
     ]
    }
   ],
   "source": [
    "%%time\n",
    "concec_count(\"numbers\")"
   ]
  },
  {
   "cell_type": "markdown",
   "metadata": {},
   "source": [
    "# Параллельное\n",
    "Код запускался в отдельном файле, так как многопроцессорность в jupyter не работает.\n",
    "Код добавлен сюда для удобства\n",
    "НЕ ЗАПУСКАТЬ В JUPYTER!!!"
   ]
  },
  {
   "cell_type": "raw",
   "metadata": {},
   "source": [
    "from multiprocessing import Pool\n",
    "import os\n",
    "import mmap\n",
    "import struct\n",
    "import time\n",
    "        \n",
    "def read_part(memmap):\n",
    "    num_sum = 0\n",
    "    max_num = 0\n",
    "    min_num = 4_294_967_295\n",
    "    \n",
    "    for nnum in range(len(memmap)//4):\n",
    "        \n",
    "        number = struct.unpack('>I',memmap[nnum*4:(nnum+1)*4])[0]\n",
    "        \n",
    "        num_sum+=number\n",
    "        if number>max_num:\n",
    "            max_num = number\n",
    "        if number<min_num:\n",
    "            min_num = number\n",
    "\n",
    "    return (num_sum,max_num,min_num)\n",
    "\n",
    "\n",
    "if __name__ == '__main__':\n",
    "    '''\n",
    "    Программа маппит файл с помощью mmap и с помощью [:] разделяет его между процессами.\n",
    "    Каждый процесс считает у себя сумму и min/max. Результаты процессов объёдиняются.\n",
    "    \n",
    "    Файл делится на примерно равные части, по одинаковому количеству числе в каждой.\n",
    "    Избыток осатётся последнему процессу.\n",
    "    '''\n",
    "    start_time = time.time()\n",
    "    \n",
    "    # Имя читаемого файла\n",
    "    filename = \"numbers\"\n",
    "    num_of_workers = 4\n",
    "    \n",
    "    total_numbers = os.path.getsize(filename) // 4\n",
    "\n",
    "    f = open(filename,\"rb\")\n",
    "\n",
    "\n",
    "    # количество чисел для каждого процесса\n",
    "    segment = total_numbers//num_of_workers\n",
    "    # индексы для начала сегментов с которыми вместе соединяются длины сегментов, для передачи процессам\n",
    "    split = list(range(0,segment*num_of_workers,segment))\n",
    "\n",
    "    split = [(start*4,(start+segment)*4) for start in split]\n",
    "    split[-1] = (split[-1][0],total_numbers*4)\n",
    "    \n",
    "    mm = mmap.mmap(f.fileno(), length=0, access=mmap.ACCESS_READ)\n",
    "    mm_split = [mm[el[0]:el[1]] for el in split]\n",
    "    \n",
    "\n",
    "    with Pool(processes=num_of_workers) as pool:\n",
    "        res = pool.map(read_part,mm_split)\n",
    "\n",
    "    num_sum = 0\n",
    "    max_num = 0\n",
    "    min_num = 4_294_967_295\n",
    "\n",
    "    for el in res:\n",
    "        num_sum+= el[0]\n",
    "        \n",
    "        if el[1]>max_num:\n",
    "            max_num = el[1]\n",
    "            \n",
    "        if el[2]<min_num:\n",
    "            min_num = el[2]\n",
    "\n",
    "    print(f'''\n",
    "    Total sum: {num_sum}\n",
    "    Max number: {max_num}\n",
    "    Min number: {min_num}\n",
    "    ''')\n",
    "    \n",
    "    print(\"--- %s seconds ---\" % (time.time() - start_time))"
   ]
  },
  {
   "cell_type": "markdown",
   "metadata": {},
   "source": [
    "# Вывод параллельного исполнения"
   ]
  },
  {
   "cell_type": "raw",
   "metadata": {},
   "source": [
    "\n",
    "    Total sum: 1153199138354382487\n",
    "    Max number: 4294967292\n",
    "    Min number: 19\n",
    "\n",
    "--- 71.08542227745056 seconds ---"
   ]
  }
 ],
 "metadata": {
  "kernelspec": {
   "display_name": "Python 3",
   "language": "python",
   "name": "python3"
  },
  "language_info": {
   "codemirror_mode": {
    "name": "ipython",
    "version": 3
   },
   "file_extension": ".py",
   "mimetype": "text/x-python",
   "name": "python",
   "nbconvert_exporter": "python",
   "pygments_lexer": "ipython3",
   "version": "3.8.6"
  }
 },
 "nbformat": 4,
 "nbformat_minor": 4
}
