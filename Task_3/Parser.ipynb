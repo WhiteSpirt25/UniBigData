{
 "cells": [
  {
   "cell_type": "markdown",
   "metadata": {},
   "source": [
    "# New class"
   ]
  },
  {
   "cell_type": "code",
   "execution_count": 1,
   "metadata": {},
   "outputs": [],
   "source": [
    "#Parsing\n",
    "import requests\n",
    "from bs4 import BeautifulSoup\n",
    "#Data handling\n",
    "import pandas as pd\n",
    "import pickle\n",
    "#Utility\n",
    "from tqdm import tqdm\n",
    "\n",
    "class ElecParser:\n",
    "    hrefs = []\n",
    "    dfList = []\n",
    "    \n",
    "    def hrefCollector(self):\n",
    "        \n",
    "        req = requests.get(f'http://notelections.online/region/izbirkom?action=show&root=0&tvd=100100084849066&vrn=100100084849062&prver=0&pronetvd=null&region=0&sub_region=0&type=227&report_mode=null', timeout=5)\n",
    "        soup = BeautifulSoup(req.text)\n",
    "        refObjList = soup.find_all(\"a\",{'style':\"text-decoration: none\"})\n",
    "        regionRefList = [\"http://notelections.online\"+linkObj.get('href') for linkObj in refObjList]\n",
    "        for region in tqdm(regionRefList,desc=\"Dowloading region's href\"):\n",
    "            req = requests.get(region, timeout=5)\n",
    "            soup = BeautifulSoup(req.text)\n",
    "            \n",
    "            refObjList = soup.find_all(\"a\",{'style':\"text-decoration: none\"})\n",
    "            distrRefList = [\"http://notelections.online\"+linkObj.get('href') for linkObj in refObjList]\n",
    "            \n",
    "            self.hrefs.append(distrRefList)\n",
    "        # Fixing regions without districts\n",
    "        self.hrefs[-1].append(regionRefList[-1])\n",
    "        self.hrefs[-2].append(regionRefList[-2])\n",
    "        \n",
    "            \n",
    "    def fixTable(self,data,region,district):\n",
    "        # Creating DataFrame\n",
    "        df = pd.DataFrame(data).transpose()\n",
    "        # rename\n",
    "        df = df.rename(columns=df.iloc[1,:])\n",
    "        # drop unnececary rows\n",
    "        df = df.drop([0,1,2],axis = 0)\n",
    "        # Parse oercent for each candidate and replace string with it\n",
    "        df.iloc[:,13:] = df.iloc[:,13:].apply(lambda x: x.apply(lambda val: float(val.split()[1][:-1])),axis = 0)\n",
    "        # Change other values to int\n",
    "        df.iloc[:,1:13] = df.iloc[:,1:13].astype(\"int\")\n",
    "        # Added region and district\n",
    "        df[\"Region\"] = [region]*df.shape[0]\n",
    "        df[\"District\"] = [district]*df.shape[0]\n",
    "        # Reordered for comfort\n",
    "        df = df[[\"Region\",\"District\",0,1,2,3,4,5,6,7,8,9,10,11,12,13,14,15,16,17,18,19,20]]\n",
    "        return df\n",
    "    \n",
    "    def parseTable(self,href):\n",
    "        req = requests.get(href, timeout=10)\n",
    "        soup = BeautifulSoup(req.text)   \n",
    "        \n",
    "        table = soup.find(\"table\",{\"id\":\"fix-columns-table\"})\n",
    "        \n",
    "        data = []\n",
    "        table_head = table.find('thead')\n",
    "\n",
    "        row = table_head.find('tr')\n",
    "\n",
    "        cols = row.find_all('th')\n",
    "        cols = [ele.text.strip() for ele in cols]\n",
    "        cols.insert(0,\"Номер УИК\")\n",
    "        cols.insert(0,\"Номер\")\n",
    "        data.append([ele for ele in cols if ele])\n",
    "        \n",
    "        table_body = table.find('tbody')\n",
    "\n",
    "        rows = table_body.find_all('tr')\n",
    "        for row in rows:\n",
    "            cols = row.find_all('td')\n",
    "            cols = [ele.text.strip() for ele in cols]\n",
    "            data.append([ele for ele in cols if ele])\n",
    "            \n",
    "        region = soup.find(\"ul\",{\"class\":\"breadcrumb\"}).find_all(\"a\")[1].text\n",
    "        try:\n",
    "            district = soup.find(\"ul\",{\"class\":\"breadcrumb\"}).find_all(\"a\")[2].text\n",
    "        except:\n",
    "            return self.fixTable(data,region,None)\n",
    "        \n",
    "        return self.fixTable(data,region,district)\n",
    "    def parse(self,fromIdx = 0):\n",
    "        self.dfList = []\n",
    "        # Getting hrefs\n",
    "        if (len(self.hrefs) == 0):\n",
    "            self.hrefCollector()\n",
    "        for region in tqdm(self.hrefs[fromIdx:],position=0, leave=True,desc=\"Regions loop\"):\n",
    "            for district in tqdm(region,position=1, leave=True,desc=\"District loop\"):\n",
    "                self.dfList.append(self.parseTable(district))\n",
    "                \n",
    "    def getDataFrame(self):\n",
    "        return pd.concat(self.dfList, axis=0).reset_index()\n",
    "    \n",
    "    def saveToCsv(self,name = \"ElectionData.csv\"):\n",
    "        df = self.getDataFrame()\n",
    "        df.to_csv(name)\n",
    "        \n",
    "    def saveHrefs(self,name = \"hrefs.txt\"):\n",
    "        with open(name, \"wb\") as fp:   #Pickling\n",
    "            pickle.dump(self.hrefs, fp)\n",
    "    def loadHrefs(self,name = \"hrefs.txt\"):\n",
    "        with open(name, \"rb\") as fp:   # Unpickling\n",
    "            self.hrefs = pickle.load(fp)"
   ]
  },
  {
   "cell_type": "code",
   "execution_count": 2,
   "metadata": {},
   "outputs": [],
   "source": [
    "parser= ElecParser()"
   ]
  },
  {
   "cell_type": "code",
   "execution_count": 7,
   "metadata": {},
   "outputs": [
    {
     "name": "stderr",
     "output_type": "stream",
     "text": [
      "Dowloading region's href: 100%|████████████████████████████████████████████████████████| 87/87 [02:36<00:00,  1.80s/it]\n"
     ]
    }
   ],
   "source": [
    "parser.hrefCollector()"
   ]
  },
  {
   "cell_type": "code",
   "execution_count": null,
   "metadata": {},
   "outputs": [],
   "source": [
    "parser.parse()"
   ]
  },
  {
   "cell_type": "code",
   "execution_count": 16,
   "metadata": {},
   "outputs": [],
   "source": [
    "parser.saveToCsv()"
   ]
  },
  {
   "cell_type": "code",
   "execution_count": null,
   "metadata": {},
   "outputs": [],
   "source": []
  }
 ],
 "metadata": {
  "kernelspec": {
   "display_name": "Python 3",
   "language": "python",
   "name": "python3"
  },
  "language_info": {
   "codemirror_mode": {
    "name": "ipython",
    "version": 3
   },
   "file_extension": ".py",
   "mimetype": "text/x-python",
   "name": "python",
   "nbconvert_exporter": "python",
   "pygments_lexer": "ipython3",
   "version": "3.8.6"
  }
 },
 "nbformat": 4,
 "nbformat_minor": 4
}
